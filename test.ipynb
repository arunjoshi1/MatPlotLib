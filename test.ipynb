{
 "metadata": {
  "language_info": {
   "codemirror_mode": {
    "name": "ipython",
    "version": 3
   },
   "file_extension": ".py",
   "mimetype": "text/x-python",
   "name": "python",
   "nbconvert_exporter": "python",
   "pygments_lexer": "ipython3",
   "version": 3
  },
  "orig_nbformat": 2,
  "kernelspec": {
   "name": "python_defaultSpec_1596298362112",
   "display_name": "Python 3.8.5 32-bit"
  }
 },
 "nbformat": 4,
 "nbformat_minor": 2,
 "cells": [
  {
   "cell_type": "code",
   "execution_count": null,
   "metadata": {
    "tags": []
   },
   "outputs": [],
   "source": [
    "import pandas as pd\n",
    "df = pd.read_csv(\"./survey_results_public.csv\")\n",
    "df.columns=[x.lower() for x in df.columns]\n"
   ]
  },
  {
   "cell_type": "code",
   "execution_count": null,
   "metadata": {},
   "outputs": [],
   "source": [
    "schema = pd.read_csv(\"./survey_results_schema.csv\")\n",
    "schema"
   ]
  },
  {
   "cell_type": "code",
   "execution_count": null,
   "metadata": {},
   "outputs": [],
   "source": [
    "country = ['India',\"Afghanistan\"]\n",
    "filt = (df['hobbyist']=='Yes') & (df['country'].isin(country))\n",
    "# filt=df['LanguageWorkedWith'].str.contains(\"Python\",na=False)"
   ]
  },
  {
   "cell_type": "code",
   "execution_count": null,
   "metadata": {
    "tags": []
   },
   "outputs": [],
   "source": [
    "\n",
    " df.loc[filt & df['languageworkedwith'].str.contains(\"Python\",na=False),['country']]"
   ]
  },
  {
   "cell_type": "code",
   "execution_count": null,
   "metadata": {},
   "outputs": [],
   "source": [
    "def lowerHobbylist(hobby):\n",
    "    return hobby.lower()\n",
    "    \n",
    "df['hobbyist'].apply(lowerHobbylist)\n",
    "df['hobbyist'].replace({'Yes':True,\"No\":False   })\n"
   ]
  },
  {
   "cell_type": "code",
   "execution_count": null,
   "metadata": {
    "tags": []
   },
   "outputs": [],
   "source": [
    "# schema.drop(index=range(85,91))\n",
    "df.info()"
   ]
  },
  {
   "cell_type": "code",
   "execution_count": null,
   "metadata": {},
   "outputs": [],
   "source": [
    "# df[['age','convertedcomp']].sort_values(by=[\"convertedcomp\",'age'],ascending=[False,False],inplace=True)\n",
    "df.nlargest(10,'convertedcomp')"
   ]
  },
  {
   "cell_type": "code",
   "execution_count": null,
   "metadata": {},
   "outputs": [],
   "source": [
    "countryGroup = df.groupby(['country'])\n",
    "countryGroup['convertedcomp'].value_counts().loc['India']"
   ]
  },
  {
   "cell_type": "code",
   "execution_count": null,
   "metadata": {},
   "outputs": [],
   "source": [
    "countryGroup['convertedcomp'].median().loc['India']"
   ]
  },
  {
   "cell_type": "code",
   "execution_count": null,
   "metadata": {},
   "outputs": [],
   "source": [
    "countryGroup['convertedcomp'].agg(['median','mean','max','min'])\n"
   ]
  },
  {
   "cell_type": "code",
   "execution_count": null,
   "metadata": {},
   "outputs": [],
   "source": [
    "countryUsePython= countryGroup['languageworkedwith'].apply(lambda x: x.str.contains(\"Python\").sum())\n",
    "countryUsePython"
   ]
  },
  {
   "cell_type": "code",
   "execution_count": null,
   "metadata": {},
   "outputs": [],
   "source": [
    "pythonDf = pd.concat([countryUsePython,df['country'].value_counts()],axis='columns')\n",
    "pythonDf.dtypes"
   ]
  },
  {
   "cell_type": "code",
   "execution_count": null,
   "metadata": {
    "tags": []
   },
   "outputs": [],
   "source": [
    "salesDataFrame = pd.read_csv(\"./store_sales.csv\")"
   ]
  },
  {
   "cell_type": "code",
   "execution_count": null,
   "metadata": {},
   "outputs": [],
   "source": [
    "    # salesDataFrame.drop(columns='mean',inplace=True)\n",
    "    salesDataFrame[['JanBonus','Jan']].tail(10)"
   ]
  },
  {
   "cell_type": "code",
   "execution_count": null,
   "metadata": {},
   "outputs": [],
   "source": [
    "salesDataFrame['mean']=salesDataFrame.apply('mean',axis=1)"
   ]
  },
  {
   "cell_type": "code",
   "execution_count": 26,
   "metadata": {
    "tags": []
   },
   "outputs": [
    {
     "output_type": "execute_result",
     "data": {
      "text/plain": "   store_id        city  Jan  Feb  Mar  Apr  May  Jun  July  Aug  Sep  Oct  \\\n0       S_1       Texas    8   20   13   21   17   20    24   17   16    9   \n1       S_2  California   12   19   15   15   11   19     7   15   10   11   \n2       S_3  California   16   16   14   19   23    6    13   13   15   14   \n3       S_4       Texas    8   18   13   10   14   14     6    8    8   18   \n4       S_5       Texas   19    5   24    9    5   24    10    5   24   15   \n..      ...         ...  ...  ...  ...  ...  ...  ...   ...  ...  ...  ...   \n95     S_96       Texas    7   10   20   20   10   15    15   21   15    7   \n96     S_97  California   13    6    7   15   22   10    21   23   10    6   \n97     S_98       Texas   16    9    6   14   20   13    11   10    8   22   \n98     S_99     Arizona   18   16    9    5   12   22    11   13   21   17   \n99    S_100  California    5   23   17   24   15   21    19   10   12   20   \n\n    Nov  Dec       mean  JanBonus  \n0     7    6  14.833333     False  \n1    21   19  14.500000      True  \n2    24    8  15.083333      True  \n3     7   11  11.250000     False  \n4     6   13  13.250000      True  \n..  ...  ...        ...       ...  \n95   23   22  15.416667     False  \n96   12    9  12.833333      True  \n97   17   22  14.000000      True  \n98   19   10  14.416667      True  \n99    5    9  15.000000     False  \n\n[100 rows x 16 columns]",
      "text/html": "<div>\n<style scoped>\n    .dataframe tbody tr th:only-of-type {\n        vertical-align: middle;\n    }\n\n    .dataframe tbody tr th {\n        vertical-align: top;\n    }\n\n    .dataframe thead th {\n        text-align: right;\n    }\n</style>\n<table border=\"1\" class=\"dataframe\">\n  <thead>\n    <tr style=\"text-align: right;\">\n      <th></th>\n      <th>store_id</th>\n      <th>city</th>\n      <th>Jan</th>\n      <th>Feb</th>\n      <th>Mar</th>\n      <th>Apr</th>\n      <th>May</th>\n      <th>Jun</th>\n      <th>July</th>\n      <th>Aug</th>\n      <th>Sep</th>\n      <th>Oct</th>\n      <th>Nov</th>\n      <th>Dec</th>\n      <th>mean</th>\n      <th>JanBonus</th>\n    </tr>\n  </thead>\n  <tbody>\n    <tr>\n      <th>0</th>\n      <td>S_1</td>\n      <td>Texas</td>\n      <td>8</td>\n      <td>20</td>\n      <td>13</td>\n      <td>21</td>\n      <td>17</td>\n      <td>20</td>\n      <td>24</td>\n      <td>17</td>\n      <td>16</td>\n      <td>9</td>\n      <td>7</td>\n      <td>6</td>\n      <td>14.833333</td>\n      <td>False</td>\n    </tr>\n    <tr>\n      <th>1</th>\n      <td>S_2</td>\n      <td>California</td>\n      <td>12</td>\n      <td>19</td>\n      <td>15</td>\n      <td>15</td>\n      <td>11</td>\n      <td>19</td>\n      <td>7</td>\n      <td>15</td>\n      <td>10</td>\n      <td>11</td>\n      <td>21</td>\n      <td>19</td>\n      <td>14.500000</td>\n      <td>True</td>\n    </tr>\n    <tr>\n      <th>2</th>\n      <td>S_3</td>\n      <td>California</td>\n      <td>16</td>\n      <td>16</td>\n      <td>14</td>\n      <td>19</td>\n      <td>23</td>\n      <td>6</td>\n      <td>13</td>\n      <td>13</td>\n      <td>15</td>\n      <td>14</td>\n      <td>24</td>\n      <td>8</td>\n      <td>15.083333</td>\n      <td>True</td>\n    </tr>\n    <tr>\n      <th>3</th>\n      <td>S_4</td>\n      <td>Texas</td>\n      <td>8</td>\n      <td>18</td>\n      <td>13</td>\n      <td>10</td>\n      <td>14</td>\n      <td>14</td>\n      <td>6</td>\n      <td>8</td>\n      <td>8</td>\n      <td>18</td>\n      <td>7</td>\n      <td>11</td>\n      <td>11.250000</td>\n      <td>False</td>\n    </tr>\n    <tr>\n      <th>4</th>\n      <td>S_5</td>\n      <td>Texas</td>\n      <td>19</td>\n      <td>5</td>\n      <td>24</td>\n      <td>9</td>\n      <td>5</td>\n      <td>24</td>\n      <td>10</td>\n      <td>5</td>\n      <td>24</td>\n      <td>15</td>\n      <td>6</td>\n      <td>13</td>\n      <td>13.250000</td>\n      <td>True</td>\n    </tr>\n    <tr>\n      <th>...</th>\n      <td>...</td>\n      <td>...</td>\n      <td>...</td>\n      <td>...</td>\n      <td>...</td>\n      <td>...</td>\n      <td>...</td>\n      <td>...</td>\n      <td>...</td>\n      <td>...</td>\n      <td>...</td>\n      <td>...</td>\n      <td>...</td>\n      <td>...</td>\n      <td>...</td>\n      <td>...</td>\n    </tr>\n    <tr>\n      <th>95</th>\n      <td>S_96</td>\n      <td>Texas</td>\n      <td>7</td>\n      <td>10</td>\n      <td>20</td>\n      <td>20</td>\n      <td>10</td>\n      <td>15</td>\n      <td>15</td>\n      <td>21</td>\n      <td>15</td>\n      <td>7</td>\n      <td>23</td>\n      <td>22</td>\n      <td>15.416667</td>\n      <td>False</td>\n    </tr>\n    <tr>\n      <th>96</th>\n      <td>S_97</td>\n      <td>California</td>\n      <td>13</td>\n      <td>6</td>\n      <td>7</td>\n      <td>15</td>\n      <td>22</td>\n      <td>10</td>\n      <td>21</td>\n      <td>23</td>\n      <td>10</td>\n      <td>6</td>\n      <td>12</td>\n      <td>9</td>\n      <td>12.833333</td>\n      <td>True</td>\n    </tr>\n    <tr>\n      <th>97</th>\n      <td>S_98</td>\n      <td>Texas</td>\n      <td>16</td>\n      <td>9</td>\n      <td>6</td>\n      <td>14</td>\n      <td>20</td>\n      <td>13</td>\n      <td>11</td>\n      <td>10</td>\n      <td>8</td>\n      <td>22</td>\n      <td>17</td>\n      <td>22</td>\n      <td>14.000000</td>\n      <td>True</td>\n    </tr>\n    <tr>\n      <th>98</th>\n      <td>S_99</td>\n      <td>Arizona</td>\n      <td>18</td>\n      <td>16</td>\n      <td>9</td>\n      <td>5</td>\n      <td>12</td>\n      <td>22</td>\n      <td>11</td>\n      <td>13</td>\n      <td>21</td>\n      <td>17</td>\n      <td>19</td>\n      <td>10</td>\n      <td>14.416667</td>\n      <td>True</td>\n    </tr>\n    <tr>\n      <th>99</th>\n      <td>S_100</td>\n      <td>California</td>\n      <td>5</td>\n      <td>23</td>\n      <td>17</td>\n      <td>24</td>\n      <td>15</td>\n      <td>21</td>\n      <td>19</td>\n      <td>10</td>\n      <td>12</td>\n      <td>20</td>\n      <td>5</td>\n      <td>9</td>\n      <td>15.000000</td>\n      <td>False</td>\n    </tr>\n  </tbody>\n</table>\n<p>100 rows × 16 columns</p>\n</div>"
     },
     "metadata": {},
     "execution_count": 26
    }
   ],
   "source": [
    "# salesDataFrame\n",
    "def bonusCheck(column):\n",
    "    aligbile=[]\n",
    "    for i in column:\n",
    "        if i>=10:\n",
    "            aligbile.append(True)\n",
    "        else:\n",
    "            aligbile.append(False)\n",
    "    return aligbile\n",
    "\n",
    "salesDataFrame['JanBonus']= bonusCheck(salesDataFrame['Jan'])\n",
    "salesDataFrame"
   ]
  },
  {
   "cell_type": "code",
   "execution_count": 114,
   "metadata": {},
   "outputs": [],
   "source": [
    "import numpy as np"
   ]
  },
  {
   "cell_type": "code",
   "execution_count": 123,
   "metadata": {},
   "outputs": [
    {
     "output_type": "execute_result",
     "data": {
      "text/plain": "array([100,  90,  80,  70,  60,  50,  40,  30,  20,  10])"
     },
     "metadata": {},
     "execution_count": 123
    }
   ],
   "source": [
    "np.arange(100,0,-10)\n"
   ]
  },
  {
   "cell_type": "code",
   "execution_count": 132,
   "metadata": {},
   "outputs": [
    {
     "output_type": "execute_result",
     "data": {
      "text/plain": "array([ 2.,  4.,  6.,  8., 10., 12.])"
     },
     "metadata": {},
     "execution_count": 132
    }
   ],
   "source": [
    "np.linspace(2,12,6)"
   ]
  }
 ]
}